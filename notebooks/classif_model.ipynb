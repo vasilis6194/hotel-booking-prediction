{
 "cells": [
  {
   "cell_type": "code",
   "execution_count": 4,
   "metadata": {},
   "outputs": [],
   "source": [
    "import numpy as np\n",
    "import pandas as pd\n",
    "import seaborn as sns\n",
    "import matplotlib.pyplot as plt\n",
    "\n",
    "import re\n",
    "import joblib\n",
    "\n",
    "from sklearn.model_selection import train_test_split\n",
    "from sklearn.metrics import accuracy_score, recall_score, precision_score, f1_score, classification_report\n",
    "from sklearn.model_selection import GridSearchCV, cross_val_score\n",
    "from sklearn.preprocessing import StandardScaler\n",
    "from sklearn.ensemble import RandomForestClassifier\n",
    "from sklearn.impute import SimpleImputer, KNNImputer\n",
    "from sklearn.feature_selection import SelectKBest, f_classif\n",
    "from sklearn.svm import SVC\n",
    "from sklearn.neighbors import KNeighborsClassifier\n",
    "from sklearn.neighbors import LocalOutlierFactor \n",
    "\n",
    "\n",
    "from imblearn.pipeline import Pipeline\n",
    "from imblearn.over_sampling import SMOTE\n",
    "from imblearn.under_sampling import NearMiss, TomekLinks\n",
    "\n",
    "from lightgbm import LGBMClassifier\n",
    "from xgboost import XGBClassifier\n",
    "from catboost import CatBoostClassifier\n",
    "\n",
    "import warnings\n",
    "warnings.simplefilter(action = 'ignore', category = FutureWarning)\n",
    "warnings.simplefilter(action = 'ignore', category = UserWarning)\n",
    "warnings.simplefilter(action = 'ignore', category = RuntimeWarning)"
   ]
  },
  {
   "cell_type": "code",
   "execution_count": 5,
   "metadata": {},
   "outputs": [],
   "source": [
    "data = pd.read_csv(r'C:\\Users\\user\\Desktop\\Github\\Hotel booking prediction\\hotel-booking-prediction\\data\\cleaned_data.csv')"
   ]
  },
  {
   "cell_type": "code",
   "execution_count": 119,
   "metadata": {},
   "outputs": [
    {
     "data": {
      "application/vnd.microsoft.datawrangler.viewer.v0+json": {
       "columns": [
        {
         "name": "index",
         "rawType": "int64",
         "type": "integer"
        },
        {
         "name": "hotel",
         "rawType": "object",
         "type": "string"
        },
        {
         "name": "is_canceled",
         "rawType": "int64",
         "type": "integer"
        },
        {
         "name": "lead_time",
         "rawType": "int64",
         "type": "integer"
        },
        {
         "name": "arrival_date_day_of_month",
         "rawType": "int64",
         "type": "integer"
        },
        {
         "name": "stays_in_weekend_nights",
         "rawType": "int64",
         "type": "integer"
        },
        {
         "name": "stays_in_week_nights",
         "rawType": "int64",
         "type": "integer"
        },
        {
         "name": "adults",
         "rawType": "int64",
         "type": "integer"
        },
        {
         "name": "children",
         "rawType": "float64",
         "type": "float"
        },
        {
         "name": "babies",
         "rawType": "int64",
         "type": "integer"
        },
        {
         "name": "meal",
         "rawType": "object",
         "type": "string"
        },
        {
         "name": "market_segment",
         "rawType": "object",
         "type": "string"
        },
        {
         "name": "distribution_channel",
         "rawType": "object",
         "type": "string"
        },
        {
         "name": "is_repeated_guest",
         "rawType": "int64",
         "type": "integer"
        },
        {
         "name": "previous_cancellations",
         "rawType": "int64",
         "type": "integer"
        },
        {
         "name": "previous_bookings_not_canceled",
         "rawType": "int64",
         "type": "integer"
        },
        {
         "name": "reserved_room_type",
         "rawType": "object",
         "type": "string"
        },
        {
         "name": "deposit_type",
         "rawType": "object",
         "type": "string"
        },
        {
         "name": "customer_type",
         "rawType": "object",
         "type": "string"
        },
        {
         "name": "adr",
         "rawType": "float64",
         "type": "float"
        },
        {
         "name": "required_car_parking_spaces",
         "rawType": "int64",
         "type": "integer"
        },
        {
         "name": "total_of_special_requests",
         "rawType": "int64",
         "type": "integer"
        },
        {
         "name": "reservation_year",
         "rawType": "int64",
         "type": "integer"
        },
        {
         "name": "reservation_month",
         "rawType": "int64",
         "type": "integer"
        },
        {
         "name": "reservation_day",
         "rawType": "int64",
         "type": "integer"
        },
        {
         "name": "reservation_weekday",
         "rawType": "int64",
         "type": "integer"
        }
       ],
       "conversionMethod": "pd.DataFrame",
       "ref": "ba9aae71-0ca8-460f-bba8-3bd6168b8469",
       "rows": [
        [
         "0",
         "Resort Hotel",
         "0",
         "342",
         "1",
         "0",
         "0",
         "2",
         "0.0",
         "0",
         "BB",
         "Direct",
         "Direct",
         "0",
         "0",
         "0",
         "C",
         "No Deposit",
         "Transient",
         "0.0",
         "0",
         "0",
         "2015",
         "7",
         "1",
         "2"
        ],
        [
         "1",
         "Resort Hotel",
         "0",
         "737",
         "1",
         "0",
         "0",
         "2",
         "0.0",
         "0",
         "BB",
         "Direct",
         "Direct",
         "0",
         "0",
         "0",
         "C",
         "No Deposit",
         "Transient",
         "0.0",
         "0",
         "0",
         "2015",
         "7",
         "1",
         "2"
        ],
        [
         "2",
         "Resort Hotel",
         "0",
         "7",
         "1",
         "0",
         "1",
         "1",
         "0.0",
         "0",
         "BB",
         "Direct",
         "Direct",
         "0",
         "0",
         "0",
         "A",
         "No Deposit",
         "Transient",
         "75.0",
         "0",
         "0",
         "2015",
         "7",
         "2",
         "3"
        ],
        [
         "3",
         "Resort Hotel",
         "0",
         "13",
         "1",
         "0",
         "1",
         "1",
         "0.0",
         "0",
         "BB",
         "Corporate",
         "Corporate",
         "0",
         "0",
         "0",
         "A",
         "No Deposit",
         "Transient",
         "75.0",
         "0",
         "0",
         "2015",
         "7",
         "2",
         "3"
        ],
        [
         "4",
         "Resort Hotel",
         "0",
         "14",
         "1",
         "0",
         "2",
         "2",
         "0.0",
         "0",
         "BB",
         "Online TA",
         "TA/TO",
         "0",
         "0",
         "0",
         "A",
         "No Deposit",
         "Transient",
         "98.0",
         "0",
         "1",
         "2015",
         "7",
         "3",
         "4"
        ]
       ],
       "shape": {
        "columns": 25,
        "rows": 5
       }
      },
      "text/html": [
       "<div>\n",
       "<style scoped>\n",
       "    .dataframe tbody tr th:only-of-type {\n",
       "        vertical-align: middle;\n",
       "    }\n",
       "\n",
       "    .dataframe tbody tr th {\n",
       "        vertical-align: top;\n",
       "    }\n",
       "\n",
       "    .dataframe thead th {\n",
       "        text-align: right;\n",
       "    }\n",
       "</style>\n",
       "<table border=\"1\" class=\"dataframe\">\n",
       "  <thead>\n",
       "    <tr style=\"text-align: right;\">\n",
       "      <th></th>\n",
       "      <th>hotel</th>\n",
       "      <th>is_canceled</th>\n",
       "      <th>lead_time</th>\n",
       "      <th>arrival_date_day_of_month</th>\n",
       "      <th>stays_in_weekend_nights</th>\n",
       "      <th>stays_in_week_nights</th>\n",
       "      <th>adults</th>\n",
       "      <th>children</th>\n",
       "      <th>babies</th>\n",
       "      <th>meal</th>\n",
       "      <th>...</th>\n",
       "      <th>reserved_room_type</th>\n",
       "      <th>deposit_type</th>\n",
       "      <th>customer_type</th>\n",
       "      <th>adr</th>\n",
       "      <th>required_car_parking_spaces</th>\n",
       "      <th>total_of_special_requests</th>\n",
       "      <th>reservation_year</th>\n",
       "      <th>reservation_month</th>\n",
       "      <th>reservation_day</th>\n",
       "      <th>reservation_weekday</th>\n",
       "    </tr>\n",
       "  </thead>\n",
       "  <tbody>\n",
       "    <tr>\n",
       "      <th>0</th>\n",
       "      <td>Resort Hotel</td>\n",
       "      <td>0</td>\n",
       "      <td>342</td>\n",
       "      <td>1</td>\n",
       "      <td>0</td>\n",
       "      <td>0</td>\n",
       "      <td>2</td>\n",
       "      <td>0.0</td>\n",
       "      <td>0</td>\n",
       "      <td>BB</td>\n",
       "      <td>...</td>\n",
       "      <td>C</td>\n",
       "      <td>No Deposit</td>\n",
       "      <td>Transient</td>\n",
       "      <td>0.0</td>\n",
       "      <td>0</td>\n",
       "      <td>0</td>\n",
       "      <td>2015</td>\n",
       "      <td>7</td>\n",
       "      <td>1</td>\n",
       "      <td>2</td>\n",
       "    </tr>\n",
       "    <tr>\n",
       "      <th>1</th>\n",
       "      <td>Resort Hotel</td>\n",
       "      <td>0</td>\n",
       "      <td>737</td>\n",
       "      <td>1</td>\n",
       "      <td>0</td>\n",
       "      <td>0</td>\n",
       "      <td>2</td>\n",
       "      <td>0.0</td>\n",
       "      <td>0</td>\n",
       "      <td>BB</td>\n",
       "      <td>...</td>\n",
       "      <td>C</td>\n",
       "      <td>No Deposit</td>\n",
       "      <td>Transient</td>\n",
       "      <td>0.0</td>\n",
       "      <td>0</td>\n",
       "      <td>0</td>\n",
       "      <td>2015</td>\n",
       "      <td>7</td>\n",
       "      <td>1</td>\n",
       "      <td>2</td>\n",
       "    </tr>\n",
       "    <tr>\n",
       "      <th>2</th>\n",
       "      <td>Resort Hotel</td>\n",
       "      <td>0</td>\n",
       "      <td>7</td>\n",
       "      <td>1</td>\n",
       "      <td>0</td>\n",
       "      <td>1</td>\n",
       "      <td>1</td>\n",
       "      <td>0.0</td>\n",
       "      <td>0</td>\n",
       "      <td>BB</td>\n",
       "      <td>...</td>\n",
       "      <td>A</td>\n",
       "      <td>No Deposit</td>\n",
       "      <td>Transient</td>\n",
       "      <td>75.0</td>\n",
       "      <td>0</td>\n",
       "      <td>0</td>\n",
       "      <td>2015</td>\n",
       "      <td>7</td>\n",
       "      <td>2</td>\n",
       "      <td>3</td>\n",
       "    </tr>\n",
       "    <tr>\n",
       "      <th>3</th>\n",
       "      <td>Resort Hotel</td>\n",
       "      <td>0</td>\n",
       "      <td>13</td>\n",
       "      <td>1</td>\n",
       "      <td>0</td>\n",
       "      <td>1</td>\n",
       "      <td>1</td>\n",
       "      <td>0.0</td>\n",
       "      <td>0</td>\n",
       "      <td>BB</td>\n",
       "      <td>...</td>\n",
       "      <td>A</td>\n",
       "      <td>No Deposit</td>\n",
       "      <td>Transient</td>\n",
       "      <td>75.0</td>\n",
       "      <td>0</td>\n",
       "      <td>0</td>\n",
       "      <td>2015</td>\n",
       "      <td>7</td>\n",
       "      <td>2</td>\n",
       "      <td>3</td>\n",
       "    </tr>\n",
       "    <tr>\n",
       "      <th>4</th>\n",
       "      <td>Resort Hotel</td>\n",
       "      <td>0</td>\n",
       "      <td>14</td>\n",
       "      <td>1</td>\n",
       "      <td>0</td>\n",
       "      <td>2</td>\n",
       "      <td>2</td>\n",
       "      <td>0.0</td>\n",
       "      <td>0</td>\n",
       "      <td>BB</td>\n",
       "      <td>...</td>\n",
       "      <td>A</td>\n",
       "      <td>No Deposit</td>\n",
       "      <td>Transient</td>\n",
       "      <td>98.0</td>\n",
       "      <td>0</td>\n",
       "      <td>1</td>\n",
       "      <td>2015</td>\n",
       "      <td>7</td>\n",
       "      <td>3</td>\n",
       "      <td>4</td>\n",
       "    </tr>\n",
       "  </tbody>\n",
       "</table>\n",
       "<p>5 rows × 25 columns</p>\n",
       "</div>"
      ],
      "text/plain": [
       "          hotel  is_canceled  lead_time  arrival_date_day_of_month  \\\n",
       "0  Resort Hotel            0        342                          1   \n",
       "1  Resort Hotel            0        737                          1   \n",
       "2  Resort Hotel            0          7                          1   \n",
       "3  Resort Hotel            0         13                          1   \n",
       "4  Resort Hotel            0         14                          1   \n",
       "\n",
       "   stays_in_weekend_nights  stays_in_week_nights  adults  children  babies  \\\n",
       "0                        0                     0       2       0.0       0   \n",
       "1                        0                     0       2       0.0       0   \n",
       "2                        0                     1       1       0.0       0   \n",
       "3                        0                     1       1       0.0       0   \n",
       "4                        0                     2       2       0.0       0   \n",
       "\n",
       "  meal  ... reserved_room_type deposit_type  customer_type   adr  \\\n",
       "0   BB  ...                  C   No Deposit      Transient   0.0   \n",
       "1   BB  ...                  C   No Deposit      Transient   0.0   \n",
       "2   BB  ...                  A   No Deposit      Transient  75.0   \n",
       "3   BB  ...                  A   No Deposit      Transient  75.0   \n",
       "4   BB  ...                  A   No Deposit      Transient  98.0   \n",
       "\n",
       "   required_car_parking_spaces total_of_special_requests reservation_year  \\\n",
       "0                            0                         0             2015   \n",
       "1                            0                         0             2015   \n",
       "2                            0                         0             2015   \n",
       "3                            0                         0             2015   \n",
       "4                            0                         1             2015   \n",
       "\n",
       "  reservation_month  reservation_day  reservation_weekday  \n",
       "0                 7                1                    2  \n",
       "1                 7                1                    2  \n",
       "2                 7                2                    3  \n",
       "3                 7                2                    3  \n",
       "4                 7                3                    4  \n",
       "\n",
       "[5 rows x 25 columns]"
      ]
     },
     "execution_count": 119,
     "metadata": {},
     "output_type": "execute_result"
    }
   ],
   "source": [
    "data.head()"
   ]
  },
  {
   "cell_type": "markdown",
   "metadata": {},
   "source": [
    "#### One hot-encoding and label encoding"
   ]
  },
  {
   "cell_type": "code",
   "execution_count": 6,
   "metadata": {},
   "outputs": [],
   "source": [
    "dummies_columns = data.select_dtypes('object').columns"
   ]
  },
  {
   "cell_type": "code",
   "execution_count": 7,
   "metadata": {},
   "outputs": [
    {
     "data": {
      "text/plain": [
       "Index(['hotel', 'meal', 'market_segment', 'distribution_channel',\n",
       "       'reserved_room_type', 'deposit_type', 'customer_type'],\n",
       "      dtype='object')"
      ]
     },
     "execution_count": 7,
     "metadata": {},
     "output_type": "execute_result"
    }
   ],
   "source": [
    "dummies_columns"
   ]
  },
  {
   "cell_type": "code",
   "execution_count": 8,
   "metadata": {},
   "outputs": [],
   "source": [
    "data = pd.get_dummies(data, columns=dummies_columns, drop_first=True, dtype=int)"
   ]
  },
  {
   "cell_type": "code",
   "execution_count": 127,
   "metadata": {},
   "outputs": [
    {
     "name": "stdout",
     "output_type": "stream",
     "text": [
      "<class 'pandas.core.frame.DataFrame'>\n",
      "Index: 108683 entries, 0 to 118727\n",
      "Data columns (total 46 columns):\n",
      " #   Column                          Non-Null Count   Dtype  \n",
      "---  ------                          --------------   -----  \n",
      " 0   is_canceled                     108683 non-null  int64  \n",
      " 1   lead_time                       108683 non-null  int64  \n",
      " 2   arrival_date_day_of_month       108683 non-null  int64  \n",
      " 3   stays_in_weekend_nights         108683 non-null  int64  \n",
      " 4   stays_in_week_nights            108683 non-null  int64  \n",
      " 5   adults                          108683 non-null  int64  \n",
      " 6   children                        108683 non-null  float64\n",
      " 7   babies                          108683 non-null  int64  \n",
      " 8   is_repeated_guest               108683 non-null  int64  \n",
      " 9   previous_cancellations          108683 non-null  int64  \n",
      " 10  previous_bookings_not_canceled  108683 non-null  int64  \n",
      " 11  adr                             108683 non-null  float64\n",
      " 12  required_car_parking_spaces     108683 non-null  int64  \n",
      " 13  total_of_special_requests       108683 non-null  int64  \n",
      " 14  reservation_year                108683 non-null  int64  \n",
      " 15  reservation_month               108683 non-null  int64  \n",
      " 16  reservation_day                 108683 non-null  int64  \n",
      " 17  reservation_weekday             108683 non-null  int64  \n",
      " 18  hotel_Resort Hotel              108683 non-null  int64  \n",
      " 19  meal_FB                         108683 non-null  int64  \n",
      " 20  meal_HB                         108683 non-null  int64  \n",
      " 21  meal_SC                         108683 non-null  int64  \n",
      " 22  meal_Undefined                  108683 non-null  int64  \n",
      " 23  market_segment_Complementary    108683 non-null  int64  \n",
      " 24  market_segment_Corporate        108683 non-null  int64  \n",
      " 25  market_segment_Direct           108683 non-null  int64  \n",
      " 26  market_segment_Groups           108683 non-null  int64  \n",
      " 27  market_segment_Offline TA/TO    108683 non-null  int64  \n",
      " 28  market_segment_Online TA        108683 non-null  int64  \n",
      " 29  distribution_channel_Direct     108683 non-null  int64  \n",
      " 30  distribution_channel_GDS        108683 non-null  int64  \n",
      " 31  distribution_channel_TA/TO      108683 non-null  int64  \n",
      " 32  distribution_channel_Undefined  108683 non-null  int64  \n",
      " 33  reserved_room_type_B            108683 non-null  int64  \n",
      " 34  reserved_room_type_C            108683 non-null  int64  \n",
      " 35  reserved_room_type_D            108683 non-null  int64  \n",
      " 36  reserved_room_type_E            108683 non-null  int64  \n",
      " 37  reserved_room_type_F            108683 non-null  int64  \n",
      " 38  reserved_room_type_G            108683 non-null  int64  \n",
      " 39  reserved_room_type_H            108683 non-null  int64  \n",
      " 40  reserved_room_type_L            108683 non-null  int64  \n",
      " 41  deposit_type_Non Refund         108683 non-null  int64  \n",
      " 42  deposit_type_Refundable         108683 non-null  int64  \n",
      " 43  customer_type_Group             108683 non-null  int64  \n",
      " 44  customer_type_Transient         108683 non-null  int64  \n",
      " 45  customer_type_Transient-Party   108683 non-null  int64  \n",
      "dtypes: float64(2), int64(44)\n",
      "memory usage: 39.0 MB\n"
     ]
    }
   ],
   "source": [
    "data.info()"
   ]
  },
  {
   "cell_type": "code",
   "execution_count": 128,
   "metadata": {},
   "outputs": [
    {
     "data": {
      "text/plain": [
       "['is_canceled',\n",
       " 'lead_time',\n",
       " 'arrival_date_day_of_month',\n",
       " 'stays_in_weekend_nights',\n",
       " 'stays_in_week_nights',\n",
       " 'adults',\n",
       " 'children',\n",
       " 'babies',\n",
       " 'is_repeated_guest',\n",
       " 'previous_cancellations',\n",
       " 'previous_bookings_not_canceled',\n",
       " 'adr',\n",
       " 'required_car_parking_spaces',\n",
       " 'total_of_special_requests',\n",
       " 'reservation_year',\n",
       " 'reservation_month',\n",
       " 'reservation_day',\n",
       " 'reservation_weekday',\n",
       " 'hotel_Resort Hotel',\n",
       " 'meal_FB',\n",
       " 'meal_HB',\n",
       " 'meal_SC',\n",
       " 'meal_Undefined',\n",
       " 'market_segment_Complementary',\n",
       " 'market_segment_Corporate',\n",
       " 'market_segment_Direct',\n",
       " 'market_segment_Groups',\n",
       " 'market_segment_Offline TA/TO',\n",
       " 'market_segment_Online TA',\n",
       " 'distribution_channel_Direct',\n",
       " 'distribution_channel_GDS',\n",
       " 'distribution_channel_TA/TO',\n",
       " 'distribution_channel_Undefined',\n",
       " 'reserved_room_type_B',\n",
       " 'reserved_room_type_C',\n",
       " 'reserved_room_type_D',\n",
       " 'reserved_room_type_E',\n",
       " 'reserved_room_type_F',\n",
       " 'reserved_room_type_G',\n",
       " 'reserved_room_type_H',\n",
       " 'reserved_room_type_L',\n",
       " 'deposit_type_Non Refund',\n",
       " 'deposit_type_Refundable',\n",
       " 'customer_type_Group',\n",
       " 'customer_type_Transient',\n",
       " 'customer_type_Transient-Party']"
      ]
     },
     "execution_count": 128,
     "metadata": {},
     "output_type": "execute_result"
    }
   ],
   "source": [
    "list(data.columns)"
   ]
  },
  {
   "cell_type": "code",
   "execution_count": 113,
   "metadata": {},
   "outputs": [
    {
     "data": {
      "application/vnd.microsoft.datawrangler.viewer.v0+json": {
       "columns": [
        {
         "name": "index",
         "rawType": "int64",
         "type": "integer"
        },
        {
         "name": "is_canceled",
         "rawType": "int64",
         "type": "integer"
        },
        {
         "name": "lead_time",
         "rawType": "int64",
         "type": "integer"
        },
        {
         "name": "arrival_date_day_of_month",
         "rawType": "int64",
         "type": "integer"
        },
        {
         "name": "stays_in_weekend_nights",
         "rawType": "int64",
         "type": "integer"
        },
        {
         "name": "stays_in_week_nights",
         "rawType": "int64",
         "type": "integer"
        },
        {
         "name": "adults",
         "rawType": "int64",
         "type": "integer"
        },
        {
         "name": "children",
         "rawType": "float64",
         "type": "float"
        },
        {
         "name": "babies",
         "rawType": "int64",
         "type": "integer"
        },
        {
         "name": "is_repeated_guest",
         "rawType": "int64",
         "type": "integer"
        },
        {
         "name": "previous_cancellations",
         "rawType": "int64",
         "type": "integer"
        },
        {
         "name": "previous_bookings_not_canceled",
         "rawType": "int64",
         "type": "integer"
        },
        {
         "name": "adr",
         "rawType": "float64",
         "type": "float"
        },
        {
         "name": "required_car_parking_spaces",
         "rawType": "int64",
         "type": "integer"
        },
        {
         "name": "total_of_special_requests",
         "rawType": "int64",
         "type": "integer"
        },
        {
         "name": "reservation_year",
         "rawType": "int64",
         "type": "integer"
        },
        {
         "name": "reservation_month",
         "rawType": "int64",
         "type": "integer"
        },
        {
         "name": "reservation_day",
         "rawType": "int64",
         "type": "integer"
        },
        {
         "name": "reservation_weekday",
         "rawType": "int64",
         "type": "integer"
        },
        {
         "name": "hotel_Resort Hotel",
         "rawType": "int64",
         "type": "integer"
        },
        {
         "name": "meal_FB",
         "rawType": "int64",
         "type": "integer"
        },
        {
         "name": "meal_HB",
         "rawType": "int64",
         "type": "integer"
        },
        {
         "name": "meal_SC",
         "rawType": "int64",
         "type": "integer"
        },
        {
         "name": "meal_Undefined",
         "rawType": "int64",
         "type": "integer"
        },
        {
         "name": "market_segment_Complementary",
         "rawType": "int64",
         "type": "integer"
        },
        {
         "name": "market_segment_Corporate",
         "rawType": "int64",
         "type": "integer"
        },
        {
         "name": "market_segment_Direct",
         "rawType": "int64",
         "type": "integer"
        },
        {
         "name": "market_segment_Groups",
         "rawType": "int64",
         "type": "integer"
        },
        {
         "name": "market_segment_Offline TA/TO",
         "rawType": "int64",
         "type": "integer"
        },
        {
         "name": "market_segment_Online TA",
         "rawType": "int64",
         "type": "integer"
        },
        {
         "name": "distribution_channel_Direct",
         "rawType": "int64",
         "type": "integer"
        },
        {
         "name": "distribution_channel_GDS",
         "rawType": "int64",
         "type": "integer"
        },
        {
         "name": "distribution_channel_TA/TO",
         "rawType": "int64",
         "type": "integer"
        },
        {
         "name": "distribution_channel_Undefined",
         "rawType": "int64",
         "type": "integer"
        },
        {
         "name": "reserved_room_type_B",
         "rawType": "int64",
         "type": "integer"
        },
        {
         "name": "reserved_room_type_C",
         "rawType": "int64",
         "type": "integer"
        },
        {
         "name": "reserved_room_type_D",
         "rawType": "int64",
         "type": "integer"
        },
        {
         "name": "reserved_room_type_E",
         "rawType": "int64",
         "type": "integer"
        },
        {
         "name": "reserved_room_type_F",
         "rawType": "int64",
         "type": "integer"
        },
        {
         "name": "reserved_room_type_G",
         "rawType": "int64",
         "type": "integer"
        },
        {
         "name": "reserved_room_type_H",
         "rawType": "int64",
         "type": "integer"
        },
        {
         "name": "reserved_room_type_L",
         "rawType": "int64",
         "type": "integer"
        },
        {
         "name": "deposit_type_Non Refund",
         "rawType": "int64",
         "type": "integer"
        },
        {
         "name": "deposit_type_Refundable",
         "rawType": "int64",
         "type": "integer"
        },
        {
         "name": "customer_type_Group",
         "rawType": "int64",
         "type": "integer"
        },
        {
         "name": "customer_type_Transient",
         "rawType": "int64",
         "type": "integer"
        },
        {
         "name": "customer_type_Transient-Party",
         "rawType": "int64",
         "type": "integer"
        }
       ],
       "conversionMethod": "pd.DataFrame",
       "ref": "84419d40-2ba0-4cd9-ae81-c472f2d68f0f",
       "rows": [
        [
         "0",
         "0",
         "342",
         "1",
         "0",
         "0",
         "2",
         "0.0",
         "0",
         "0",
         "0",
         "0",
         "0.0",
         "0",
         "0",
         "2015",
         "7",
         "1",
         "2",
         "1",
         "0",
         "0",
         "0",
         "0",
         "0",
         "0",
         "1",
         "0",
         "0",
         "0",
         "1",
         "0",
         "0",
         "0",
         "0",
         "1",
         "0",
         "0",
         "0",
         "0",
         "0",
         "0",
         "0",
         "0",
         "0",
         "1",
         "0"
        ],
        [
         "1",
         "0",
         "737",
         "1",
         "0",
         "0",
         "2",
         "0.0",
         "0",
         "0",
         "0",
         "0",
         "0.0",
         "0",
         "0",
         "2015",
         "7",
         "1",
         "2",
         "1",
         "0",
         "0",
         "0",
         "0",
         "0",
         "0",
         "1",
         "0",
         "0",
         "0",
         "1",
         "0",
         "0",
         "0",
         "0",
         "1",
         "0",
         "0",
         "0",
         "0",
         "0",
         "0",
         "0",
         "0",
         "0",
         "1",
         "0"
        ],
        [
         "2",
         "0",
         "7",
         "1",
         "0",
         "1",
         "1",
         "0.0",
         "0",
         "0",
         "0",
         "0",
         "75.0",
         "0",
         "0",
         "2015",
         "7",
         "2",
         "3",
         "1",
         "0",
         "0",
         "0",
         "0",
         "0",
         "0",
         "1",
         "0",
         "0",
         "0",
         "1",
         "0",
         "0",
         "0",
         "0",
         "0",
         "0",
         "0",
         "0",
         "0",
         "0",
         "0",
         "0",
         "0",
         "0",
         "1",
         "0"
        ],
        [
         "3",
         "0",
         "13",
         "1",
         "0",
         "1",
         "1",
         "0.0",
         "0",
         "0",
         "0",
         "0",
         "75.0",
         "0",
         "0",
         "2015",
         "7",
         "2",
         "3",
         "1",
         "0",
         "0",
         "0",
         "0",
         "0",
         "1",
         "0",
         "0",
         "0",
         "0",
         "0",
         "0",
         "0",
         "0",
         "0",
         "0",
         "0",
         "0",
         "0",
         "0",
         "0",
         "0",
         "0",
         "0",
         "0",
         "1",
         "0"
        ],
        [
         "4",
         "0",
         "14",
         "1",
         "0",
         "2",
         "2",
         "0.0",
         "0",
         "0",
         "0",
         "0",
         "98.0",
         "0",
         "1",
         "2015",
         "7",
         "3",
         "4",
         "1",
         "0",
         "0",
         "0",
         "0",
         "0",
         "0",
         "0",
         "0",
         "0",
         "1",
         "0",
         "0",
         "1",
         "0",
         "0",
         "0",
         "0",
         "0",
         "0",
         "0",
         "0",
         "0",
         "0",
         "0",
         "0",
         "1",
         "0"
        ]
       ],
       "shape": {
        "columns": 46,
        "rows": 5
       }
      },
      "text/html": [
       "<div>\n",
       "<style scoped>\n",
       "    .dataframe tbody tr th:only-of-type {\n",
       "        vertical-align: middle;\n",
       "    }\n",
       "\n",
       "    .dataframe tbody tr th {\n",
       "        vertical-align: top;\n",
       "    }\n",
       "\n",
       "    .dataframe thead th {\n",
       "        text-align: right;\n",
       "    }\n",
       "</style>\n",
       "<table border=\"1\" class=\"dataframe\">\n",
       "  <thead>\n",
       "    <tr style=\"text-align: right;\">\n",
       "      <th></th>\n",
       "      <th>is_canceled</th>\n",
       "      <th>lead_time</th>\n",
       "      <th>arrival_date_day_of_month</th>\n",
       "      <th>stays_in_weekend_nights</th>\n",
       "      <th>stays_in_week_nights</th>\n",
       "      <th>adults</th>\n",
       "      <th>children</th>\n",
       "      <th>babies</th>\n",
       "      <th>is_repeated_guest</th>\n",
       "      <th>previous_cancellations</th>\n",
       "      <th>...</th>\n",
       "      <th>reserved_room_type_E</th>\n",
       "      <th>reserved_room_type_F</th>\n",
       "      <th>reserved_room_type_G</th>\n",
       "      <th>reserved_room_type_H</th>\n",
       "      <th>reserved_room_type_L</th>\n",
       "      <th>deposit_type_Non Refund</th>\n",
       "      <th>deposit_type_Refundable</th>\n",
       "      <th>customer_type_Group</th>\n",
       "      <th>customer_type_Transient</th>\n",
       "      <th>customer_type_Transient-Party</th>\n",
       "    </tr>\n",
       "  </thead>\n",
       "  <tbody>\n",
       "    <tr>\n",
       "      <th>0</th>\n",
       "      <td>0</td>\n",
       "      <td>342</td>\n",
       "      <td>1</td>\n",
       "      <td>0</td>\n",
       "      <td>0</td>\n",
       "      <td>2</td>\n",
       "      <td>0.0</td>\n",
       "      <td>0</td>\n",
       "      <td>0</td>\n",
       "      <td>0</td>\n",
       "      <td>...</td>\n",
       "      <td>0</td>\n",
       "      <td>0</td>\n",
       "      <td>0</td>\n",
       "      <td>0</td>\n",
       "      <td>0</td>\n",
       "      <td>0</td>\n",
       "      <td>0</td>\n",
       "      <td>0</td>\n",
       "      <td>1</td>\n",
       "      <td>0</td>\n",
       "    </tr>\n",
       "    <tr>\n",
       "      <th>1</th>\n",
       "      <td>0</td>\n",
       "      <td>737</td>\n",
       "      <td>1</td>\n",
       "      <td>0</td>\n",
       "      <td>0</td>\n",
       "      <td>2</td>\n",
       "      <td>0.0</td>\n",
       "      <td>0</td>\n",
       "      <td>0</td>\n",
       "      <td>0</td>\n",
       "      <td>...</td>\n",
       "      <td>0</td>\n",
       "      <td>0</td>\n",
       "      <td>0</td>\n",
       "      <td>0</td>\n",
       "      <td>0</td>\n",
       "      <td>0</td>\n",
       "      <td>0</td>\n",
       "      <td>0</td>\n",
       "      <td>1</td>\n",
       "      <td>0</td>\n",
       "    </tr>\n",
       "    <tr>\n",
       "      <th>2</th>\n",
       "      <td>0</td>\n",
       "      <td>7</td>\n",
       "      <td>1</td>\n",
       "      <td>0</td>\n",
       "      <td>1</td>\n",
       "      <td>1</td>\n",
       "      <td>0.0</td>\n",
       "      <td>0</td>\n",
       "      <td>0</td>\n",
       "      <td>0</td>\n",
       "      <td>...</td>\n",
       "      <td>0</td>\n",
       "      <td>0</td>\n",
       "      <td>0</td>\n",
       "      <td>0</td>\n",
       "      <td>0</td>\n",
       "      <td>0</td>\n",
       "      <td>0</td>\n",
       "      <td>0</td>\n",
       "      <td>1</td>\n",
       "      <td>0</td>\n",
       "    </tr>\n",
       "    <tr>\n",
       "      <th>3</th>\n",
       "      <td>0</td>\n",
       "      <td>13</td>\n",
       "      <td>1</td>\n",
       "      <td>0</td>\n",
       "      <td>1</td>\n",
       "      <td>1</td>\n",
       "      <td>0.0</td>\n",
       "      <td>0</td>\n",
       "      <td>0</td>\n",
       "      <td>0</td>\n",
       "      <td>...</td>\n",
       "      <td>0</td>\n",
       "      <td>0</td>\n",
       "      <td>0</td>\n",
       "      <td>0</td>\n",
       "      <td>0</td>\n",
       "      <td>0</td>\n",
       "      <td>0</td>\n",
       "      <td>0</td>\n",
       "      <td>1</td>\n",
       "      <td>0</td>\n",
       "    </tr>\n",
       "    <tr>\n",
       "      <th>4</th>\n",
       "      <td>0</td>\n",
       "      <td>14</td>\n",
       "      <td>1</td>\n",
       "      <td>0</td>\n",
       "      <td>2</td>\n",
       "      <td>2</td>\n",
       "      <td>0.0</td>\n",
       "      <td>0</td>\n",
       "      <td>0</td>\n",
       "      <td>0</td>\n",
       "      <td>...</td>\n",
       "      <td>0</td>\n",
       "      <td>0</td>\n",
       "      <td>0</td>\n",
       "      <td>0</td>\n",
       "      <td>0</td>\n",
       "      <td>0</td>\n",
       "      <td>0</td>\n",
       "      <td>0</td>\n",
       "      <td>1</td>\n",
       "      <td>0</td>\n",
       "    </tr>\n",
       "  </tbody>\n",
       "</table>\n",
       "<p>5 rows × 46 columns</p>\n",
       "</div>"
      ],
      "text/plain": [
       "   is_canceled  lead_time  arrival_date_day_of_month  stays_in_weekend_nights  \\\n",
       "0            0        342                          1                        0   \n",
       "1            0        737                          1                        0   \n",
       "2            0          7                          1                        0   \n",
       "3            0         13                          1                        0   \n",
       "4            0         14                          1                        0   \n",
       "\n",
       "   stays_in_week_nights  adults  children  babies  is_repeated_guest  \\\n",
       "0                     0       2       0.0       0                  0   \n",
       "1                     0       2       0.0       0                  0   \n",
       "2                     1       1       0.0       0                  0   \n",
       "3                     1       1       0.0       0                  0   \n",
       "4                     2       2       0.0       0                  0   \n",
       "\n",
       "   previous_cancellations  ...  reserved_room_type_E  reserved_room_type_F  \\\n",
       "0                       0  ...                     0                     0   \n",
       "1                       0  ...                     0                     0   \n",
       "2                       0  ...                     0                     0   \n",
       "3                       0  ...                     0                     0   \n",
       "4                       0  ...                     0                     0   \n",
       "\n",
       "   reserved_room_type_G  reserved_room_type_H  reserved_room_type_L  \\\n",
       "0                     0                     0                     0   \n",
       "1                     0                     0                     0   \n",
       "2                     0                     0                     0   \n",
       "3                     0                     0                     0   \n",
       "4                     0                     0                     0   \n",
       "\n",
       "   deposit_type_Non Refund  deposit_type_Refundable  customer_type_Group  \\\n",
       "0                        0                        0                    0   \n",
       "1                        0                        0                    0   \n",
       "2                        0                        0                    0   \n",
       "3                        0                        0                    0   \n",
       "4                        0                        0                    0   \n",
       "\n",
       "   customer_type_Transient  customer_type_Transient-Party  \n",
       "0                        1                              0  \n",
       "1                        1                              0  \n",
       "2                        1                              0  \n",
       "3                        1                              0  \n",
       "4                        1                              0  \n",
       "\n",
       "[5 rows x 46 columns]"
      ]
     },
     "execution_count": 113,
     "metadata": {},
     "output_type": "execute_result"
    }
   ],
   "source": [
    "data.head()"
   ]
  },
  {
   "cell_type": "code",
   "execution_count": 9,
   "metadata": {},
   "outputs": [],
   "source": [
    "X = data.drop(columns=['is_canceled', 'adr'])\n",
    "y_classif = data['is_canceled']\n",
    "y_reg = data['adr']"
   ]
  },
  {
   "cell_type": "code",
   "execution_count": 71,
   "metadata": {},
   "outputs": [],
   "source": [
    "def best_pipeline (X, y , models:list, sample_methods:list, scoring_type:str, n:int):\n",
    "    \n",
    "    \n",
    "    pipe = Pipeline([\n",
    "        ('select_k_best', SelectKBest(score_func=f_classif, k=n)),\n",
    "        ('sampling', SMOTE()),  # Placeholder\n",
    "        ('model', RandomForestClassifier())  # Placeholder\n",
    "    ])\n",
    "        \n",
    "\n",
    "    params = [{\n",
    "        \"model\": models,\n",
    "        \"sampling\":sample_methods\n",
    "    }]\n",
    "\n",
    "\n",
    "    CV= GridSearchCV(pipe, params,scoring = scoring_type, verbose = 1, cv = 5, n_jobs = -1,)\n",
    "    CV.fit(X,y)\n",
    "    \n",
    "    #total elapsed time\n",
    "    mean_fit_time= CV.cv_results_['mean_fit_time']\n",
    "    mean_score_time= CV.cv_results_['mean_score_time']\n",
    "    n_iter = pd.DataFrame(CV.cv_results_).shape[0] #Iterations per split\n",
    "\n",
    "    \n",
    "    best_score = CV.best_score_\n",
    "    best_estimator = CV.best_estimator_\n",
    "    \n",
    "    print(\"Total elapsed time (mins): \", round(np.mean(mean_fit_time + mean_score_time) * n_iter/60,4))\n",
    "    print(\"#\"*50)\n",
    "    print(\"Best score is: \", round(best_score,4))\n",
    "    print(\"#\"*50)\n",
    "    print(\"Best estimator : \",best_estimator)\n",
    "\n",
    "    #Creating a dataframe with the scores of each pipeline\n",
    "    df_results = pd.DataFrame(CV.cv_results_)\n",
    "    \n",
    "    df_scores = pd.DataFrame(columns=[\"full_model\", \"score\", \"rank\" ,\"model\", \"sampling\",\"params\"])\n",
    "    df_scores[\"params\"] = df_results[\"params\"]\n",
    "    df_scores[\"score\"] = df_results[\"mean_test_score\"]\n",
    "    df_scores[\"rank\"] = df_results[\"rank_test_score\"]\n",
    "    df_scores[\"model\"] = df_scores[\"params\"].apply(lambda x: str(x[\"model\"]))  \n",
    "    df_scores[\"sampling\"] = df_scores[\"params\"].apply(lambda x: str(x[\"sampling\"]))\n",
    "    df_scores[\"full_model\"] = df_scores[\"model\"]+\"||\"+df_scores[\"sampling\"]\n",
    "   \n",
    "    df_scores.drop(columns=\"params\",inplace=True)\n",
    "    df_scores = df_scores.sort_values(by='score', ascending=False)\n",
    "    \n",
    "   \n",
    "\n",
    "    #Access the SelectKBest step from the pipeline\n",
    "    select_k_best = best_estimator.named_steps['select_k_best']\n",
    "\n",
    "    #Get a boolean mask of the selected features\n",
    "    feature_mask = select_k_best.get_support()\n",
    "\n",
    "    selected_features = X.columns[feature_mask]\n",
    "    print(\"Selected features:\", selected_features)\n",
    "\n",
    "    #Barplot\n",
    "    plt.figure(figsize=(8,8))\n",
    "    ax = sns.barplot(x='score', y=\"full_model\", \n",
    "                     data=df_scores, palette='pastel')\n",
    "    \n",
    "    for container in ax.containers:\n",
    "        ax.bar_label(container, label_type='center')\n",
    "    \n",
    "    plt.show()\n",
    "    \n",
    "    return df_scores"
   ]
  },
  {
   "cell_type": "code",
   "execution_count": 83,
   "metadata": {},
   "outputs": [
    {
     "name": "stdout",
     "output_type": "stream",
     "text": [
      "Fitting 5 folds for each of 2 candidates, totalling 10 fits\n",
      "Total elapsed time (mins):  0.7999\n",
      "##################################################\n",
      "Best score is:  0.5896\n",
      "##################################################\n",
      "Best estimator :  Pipeline(steps=[('select_k_best', SelectKBest(k=20)), ('sampling', SMOTE()),\n",
      "                ('model', RandomForestClassifier(random_state=42))])\n",
      "Selected features: Index(['lead_time', 'adults', 'previous_cancellations',\n",
      "       'required_car_parking_spaces', 'total_of_special_requests',\n",
      "       'reservation_year', 'reservation_month', 'reservation_day',\n",
      "       'reservation_weekday', 'hotel_Resort Hotel', 'market_segment_Corporate',\n",
      "       'market_segment_Direct', 'market_segment_Groups',\n",
      "       'market_segment_Offline TA/TO', 'distribution_channel_Direct',\n",
      "       'distribution_channel_TA/TO', 'reserved_room_type_D',\n",
      "       'deposit_type_Non Refund', 'customer_type_Transient',\n",
      "       'customer_type_Transient-Party'],\n",
      "      dtype='object')\n"
     ]
    },
    {
     "data": {
      "image/png": "[encoded data removed]",
      "text/plain": [
       "<Figure size 800x800 with 1 Axes>"
      ]
     },
     "metadata": {},
     "output_type": "display_data"
    },
    {
     "data": {
      "application/vnd.microsoft.datawrangler.viewer.v0+json": {
       "columns": [
        {
         "name": "index",
         "rawType": "int64",
         "type": "integer"
        },
        {
         "name": "full_model",
         "rawType": "object",
         "type": "string"
        },
        {
         "name": "score",
         "rawType": "float64",
         "type": "float"
        },
        {
         "name": "rank",
         "rawType": "int32",
         "type": "integer"
        },
        {
         "name": "model",
         "rawType": "object",
         "type": "string"
        },
        {
         "name": "sampling",
         "rawType": "object",
         "type": "string"
        }
       ],
       "conversionMethod": "pd.DataFrame",
       "ref": "8d191366-6ac9-4692-957d-e564724d4e4e",
       "rows": [
        [
         "1",
         "RandomForestClassifier(random_state=42)||SMOTE()",
         "0.5896308081044406",
         "1",
         "RandomForestClassifier(random_state=42)",
         "SMOTE()"
        ],
        [
         "0",
         "XGBClassifier(base_score=None, booster=None, callbacks=None,\n              colsample_bylevel=None, colsample_bynode=None,\n              colsample_bytree=None, device=None, early_stopping_rounds=None,\n              enable_categorical=False, eval_metric=None, feature_types=None,\n              gamma=None, grow_policy=None, importance_type=None,\n              interaction_constraints=None, learning_rate=None, max_bin=None,\n              max_cat_threshold=None, max_cat_to_onehot=None,\n              max_delta_step=None, max_depth=None, max_leaves=None,\n              min_child_weight=None, missing=nan, monotone_constraints=None,\n              multi_strategy=None, n_estimators=None, n_jobs=None,\n              num_parallel_tree=None, random_state=42, ...)||SMOTE()",
         "0.5365588882129989",
         "2",
         "XGBClassifier(base_score=None, booster=None, callbacks=None,\n              colsample_bylevel=None, colsample_bynode=None,\n              colsample_bytree=None, device=None, early_stopping_rounds=None,\n              enable_categorical=False, eval_metric=None, feature_types=None,\n              gamma=None, grow_policy=None, importance_type=None,\n              interaction_constraints=None, learning_rate=None, max_bin=None,\n              max_cat_threshold=None, max_cat_to_onehot=None,\n              max_delta_step=None, max_depth=None, max_leaves=None,\n              min_child_weight=None, missing=nan, monotone_constraints=None,\n              multi_strategy=None, n_estimators=None, n_jobs=None,\n              num_parallel_tree=None, random_state=42, ...)",
         "SMOTE()"
        ]
       ],
       "shape": {
        "columns": 5,
        "rows": 2
       }
      },
      "text/html": [
       "<div>\n",
       "<style scoped>\n",
       "    .dataframe tbody tr th:only-of-type {\n",
       "        vertical-align: middle;\n",
       "    }\n",
       "\n",
       "    .dataframe tbody tr th {\n",
       "        vertical-align: top;\n",
       "    }\n",
       "\n",
       "    .dataframe thead th {\n",
       "        text-align: right;\n",
       "    }\n",
       "</style>\n",
       "<table border=\"1\" class=\"dataframe\">\n",
       "  <thead>\n",
       "    <tr style=\"text-align: right;\">\n",
       "      <th></th>\n",
       "      <th>full_model</th>\n",
       "      <th>score</th>\n",
       "      <th>rank</th>\n",
       "      <th>model</th>\n",
       "      <th>sampling</th>\n",
       "    </tr>\n",
       "  </thead>\n",
       "  <tbody>\n",
       "    <tr>\n",
       "      <th>1</th>\n",
       "      <td>RandomForestClassifier(random_state=42)||SMOTE()</td>\n",
       "      <td>0.589631</td>\n",
       "      <td>1</td>\n",
       "      <td>RandomForestClassifier(random_state=42)</td>\n",
       "      <td>SMOTE()</td>\n",
       "    </tr>\n",
       "    <tr>\n",
       "      <th>0</th>\n",
       "      <td>XGBClassifier(base_score=None, booster=None, c...</td>\n",
       "      <td>0.536559</td>\n",
       "      <td>2</td>\n",
       "      <td>XGBClassifier(base_score=None, booster=None, c...</td>\n",
       "      <td>SMOTE()</td>\n",
       "    </tr>\n",
       "  </tbody>\n",
       "</table>\n",
       "</div>"
      ],
      "text/plain": [
       "                                          full_model     score  rank  \\\n",
       "1   RandomForestClassifier(random_state=42)||SMOTE()  0.589631     1   \n",
       "0  XGBClassifier(base_score=None, booster=None, c...  0.536559     2   \n",
       "\n",
       "                                               model sampling  \n",
       "1            RandomForestClassifier(random_state=42)  SMOTE()  \n",
       "0  XGBClassifier(base_score=None, booster=None, c...  SMOTE()  "
      ]
     },
     "execution_count": 83,
     "metadata": {},
     "output_type": "execute_result"
    }
   ],
   "source": [
    "model_list=[XGBClassifier(random_state=42), RandomForestClassifier(random_state=42)]\n",
    "samples = [SMOTE()]\n",
    "\n",
    "best_pipeline (X, y_classif , model_list, samples, scoring_type=\"accuracy\", n=20)"
   ]
  },
  {
   "cell_type": "code",
   "execution_count": 10,
   "metadata": {},
   "outputs": [],
   "source": [
    "X_train_cl, X_test_cl, y_train_cl, y_test_cl = train_test_split(X, y_classif, shuffle=True, test_size=0.3)"
   ]
  },
  {
   "cell_type": "code",
   "execution_count": 88,
   "metadata": {},
   "outputs": [
    {
     "name": "stdout",
     "output_type": "stream",
     "text": [
      "Fitting 5 folds for each of 72 candidates, totalling 360 fits\n",
      "Best parameters: {'model__max_depth': 10, 'model__min_samples_split': 5, 'model__n_estimators': 100, 'select_k_best__k': 20}\n",
      "Best cross-validation accuracy: 0.8264259475007087\n",
      "Test set accuracy: 0.825529525532645\n"
     ]
    }
   ],
   "source": [
    "# Create the pipeline\n",
    "pipeline = Pipeline([\n",
    "    ('select_k_best', SelectKBest(score_func=f_classif)),\n",
    "    ('model', RandomForestClassifier(random_state=42))\n",
    "])\n",
    "\n",
    "\n",
    "param_grid = {\n",
    "    'select_k_best__k': [5, 10, 20, 30],  # Try different numbers of features\n",
    "    'model__n_estimators': [50, 100, 200],\n",
    "    'model__max_depth': [5, 10],\n",
    "    'model__min_samples_split': [2, 5, 10],\n",
    "}\n",
    "\n",
    "# Setup GridSearchCV\n",
    "grid_search = GridSearchCV(pipeline, param_grid, scoring='accuracy', cv=5, n_jobs=-1, verbose=1)\n",
    "\n",
    "# Fit GridSearchCV on training data\n",
    "grid_search.fit(X_train_cl, y_train_cl)\n",
    "\n",
    "# Best parameters and score\n",
    "print(\"Best parameters:\", grid_search.best_params_)\n",
    "print(\"Best cross-validation accuracy:\", grid_search.best_score_)\n",
    "\n",
    "# Evaluate on the test set\n",
    "test_score = grid_search.score(X_test_cl, y_test_cl)\n",
    "print(\"Test set accuracy:\", test_score)"
   ]
  },
  {
   "cell_type": "code",
   "execution_count": 138,
   "metadata": {},
   "outputs": [
    {
     "name": "stdout",
     "output_type": "stream",
     "text": [
      "Fitting 5 folds for each of 1 candidates, totalling 5 fits\n",
      "Best parameters: {'model__max_depth': 10, 'model__min_samples_split': 5, 'model__n_estimators': 100}\n",
      "Best cross-validation accuracy: 0.8244739534049039\n",
      "Test set accuracy: 0.8229403874348816\n"
     ]
    }
   ],
   "source": [
    "# Updated pipeline: feature selection -> SMOTE -> model\n",
    "pipeline_smote = Pipeline([\n",
    "    ('select_k_best', SelectKBest(score_func=f_classif, k=20)),\n",
    "    ('sampling', SMOTE()),\n",
    "    ('model', RandomForestClassifier(random_state=42))\n",
    "])\n",
    "\n",
    "# Use the same parameter grid that gave the best results before,\n",
    "param_grid = {\n",
    "    'model__max_depth': [10],\n",
    "    'model__min_samples_split': [5],\n",
    "    'model__n_estimators': [100],\n",
    "}\n",
    "\n",
    "# Setup GridSearchCV with the updated pipeline\n",
    "grid_search_smote = GridSearchCV(pipeline_smote, param_grid, scoring='accuracy', cv=5, n_jobs=-1, verbose=1)\n",
    "\n",
    "# Fit GridSearchCV on training data\n",
    "grid_search_smote.fit(X_train_cl, y_train_cl)\n",
    "\n",
    "# Best parameters and scores\n",
    "print(\"Best parameters:\", grid_search_smote.best_params_)\n",
    "print(\"Best cross-validation accuracy:\", grid_search_smote.best_score_)\n",
    "\n",
    "# Evaluate on the test set\n",
    "test_score_smote = grid_search_smote.score(X_test_cl, y_test_cl)\n",
    "print(\"Test set accuracy:\", test_score_smote)\n"
   ]
  },
  {
   "cell_type": "code",
   "execution_count": 11,
   "metadata": {},
   "outputs": [
    {
     "name": "stdout",
     "output_type": "stream",
     "text": [
      "Fitting 5 folds for each of 18 candidates, totalling 90 fits\n",
      "Best parameters: {'model__depth': 10, 'model__iterations': 200, 'model__learning_rate': 0.2}\n",
      "Best cross-validation accuracy: 0.8630578751260576\n",
      "Test set accuracy: 0.8663318463986025\n"
     ]
    }
   ],
   "source": [
    "# Build a pipeline with feature selection, SMOTE, and CatBoostClassifier\n",
    "\n",
    "pipeline_catboost = Pipeline([\n",
    "    ('select_k_best', SelectKBest(score_func=f_classif, k=20)),\n",
    "    ('sampling', SMOTE()),\n",
    "    ('model', CatBoostClassifier(random_state=42, verbose=0))\n",
    "])\n",
    "\n",
    "# Define a parameter grid for CatBoost\n",
    "param_grid_cat = {\n",
    "    'model__depth': [6, 8, 10],\n",
    "    'model__learning_rate': [0.01, 0.1, 0.2],\n",
    "    'model__iterations': [100, 200]\n",
    "}\n",
    "\n",
    "# Setup GridSearchCV with the CatBoost pipeline\n",
    "grid_search_cat = GridSearchCV(pipeline_catboost, param_grid_cat, scoring='accuracy', cv=5, n_jobs=-1, verbose=1)\n",
    "\n",
    "# Fit GridSearchCV on training data\n",
    "grid_search_cat.fit(X_train_cl, y_train_cl)\n",
    "\n",
    "# Best parameters and score\n",
    "print(\"Best parameters:\", grid_search_cat.best_params_)\n",
    "print(\"Best cross-validation accuracy:\", grid_search_cat.best_score_)\n",
    "\n",
    "# Evaluate on the test set\n",
    "test_score_cat = grid_search_cat.score(X_test_cl, y_test_cl)\n",
    "print(\"Test set accuracy:\", test_score_cat)\n"
   ]
  },
  {
   "cell_type": "code",
   "execution_count": null,
   "metadata": {},
   "outputs": [],
   "source": [
    "# Names of the 20 best columns\n",
    "\n",
    "selector = SelectKBest(score_func = f_classif)\n",
    "fit  = selector.fit(X,y_classif)\n",
    "\n",
    "df_scores = pd.DataFrame(selector.scores_)\n",
    "df_columns = pd.DataFrame(X.columns)\n",
    "\n",
    "feature_scores = pd.concat([df_columns, df_scores], axis=1)\n",
    "feature_scores.columns=[\"Specs\", \"Score\"]\n",
    "best_k_cols = feature_scores.nlargest(20,\"Score\")[\"Specs\"].values"
   ]
  },
  {
   "cell_type": "code",
   "execution_count": 15,
   "metadata": {},
   "outputs": [
    {
     "data": {
      "text/plain": [
       "array(['deposit_type_Non Refund', 'lead_time',\n",
       "       'total_of_special_requests', 'market_segment_Groups',\n",
       "       'reservation_weekday', 'customer_type_Transient',\n",
       "       'required_car_parking_spaces', 'distribution_channel_TA/TO',\n",
       "       'market_segment_Direct', 'customer_type_Transient-Party',\n",
       "       'distribution_channel_Direct', 'previous_cancellations',\n",
       "       'hotel_Resort Hotel', 'reservation_year', 'reservation_month',\n",
       "       'adults', 'market_segment_Corporate', 'reserved_room_type_D',\n",
       "       'market_segment_Offline TA/TO', 'is_repeated_guest'], dtype=object)"
      ]
     },
     "execution_count": 15,
     "metadata": {},
     "output_type": "execute_result"
    }
   ],
   "source": [
    "best_k_cols"
   ]
  },
  {
   "cell_type": "code",
   "execution_count": 18,
   "metadata": {},
   "outputs": [
    {
     "data": {
      "text/html": [
       "<style>#sk-container-id-1 {color: black;background-color: white;}#sk-container-id-1 pre{padding: 0;}#sk-container-id-1 div.sk-toggleable {background-color: white;}#sk-container-id-1 label.sk-toggleable__label {cursor: pointer;display: block;width: 100%;margin-bottom: 0;padding: 0.3em;box-sizing: border-box;text-align: center;}#sk-container-id-1 label.sk-toggleable__label-arrow:before {content: \"▸\";float: left;margin-right: 0.25em;color: #696969;}#sk-container-id-1 label.sk-toggleable__label-arrow:hover:before {color: black;}#sk-container-id-1 div.sk-estimator:hover label.sk-toggleable__label-arrow:before {color: black;}#sk-container-id-1 div.sk-toggleable__content {max-height: 0;max-width: 0;overflow: hidden;text-align: left;background-color: #f0f8ff;}#sk-container-id-1 div.sk-toggleable__content pre {margin: 0.2em;color: black;border-radius: 0.25em;background-color: #f0f8ff;}#sk-container-id-1 input.sk-toggleable__control:checked~div.sk-toggleable__content {max-height: 200px;max-width: 100%;overflow: auto;}#sk-container-id-1 input.sk-toggleable__control:checked~label.sk-toggleable__label-arrow:before {content: \"▾\";}#sk-container-id-1 div.sk-estimator input.sk-toggleable__control:checked~label.sk-toggleable__label {background-color: #d4ebff;}#sk-container-id-1 div.sk-label input.sk-toggleable__control:checked~label.sk-toggleable__label {background-color: #d4ebff;}#sk-container-id-1 input.sk-hidden--visually {border: 0;clip: rect(1px 1px 1px 1px);clip: rect(1px, 1px, 1px, 1px);height: 1px;margin: -1px;overflow: hidden;padding: 0;position: absolute;width: 1px;}#sk-container-id-1 div.sk-estimator {font-family: monospace;background-color: #f0f8ff;border: 1px dotted black;border-radius: 0.25em;box-sizing: border-box;margin-bottom: 0.5em;}#sk-container-id-1 div.sk-estimator:hover {background-color: #d4ebff;}#sk-container-id-1 div.sk-parallel-item::after {content: \"\";width: 100%;border-bottom: 1px solid gray;flex-grow: 1;}#sk-container-id-1 div.sk-label:hover label.sk-toggleable__label {background-color: #d4ebff;}#sk-container-id-1 div.sk-serial::before {content: \"\";position: absolute;border-left: 1px solid gray;box-sizing: border-box;top: 0;bottom: 0;left: 50%;z-index: 0;}#sk-container-id-1 div.sk-serial {display: flex;flex-direction: column;align-items: center;background-color: white;padding-right: 0.2em;padding-left: 0.2em;position: relative;}#sk-container-id-1 div.sk-item {position: relative;z-index: 1;}#sk-container-id-1 div.sk-parallel {display: flex;align-items: stretch;justify-content: center;background-color: white;position: relative;}#sk-container-id-1 div.sk-item::before, #sk-container-id-1 div.sk-parallel-item::before {content: \"\";position: absolute;border-left: 1px solid gray;box-sizing: border-box;top: 0;bottom: 0;left: 50%;z-index: -1;}#sk-container-id-1 div.sk-parallel-item {display: flex;flex-direction: column;z-index: 1;position: relative;background-color: white;}#sk-container-id-1 div.sk-parallel-item:first-child::after {align-self: flex-end;width: 50%;}#sk-container-id-1 div.sk-parallel-item:last-child::after {align-self: flex-start;width: 50%;}#sk-container-id-1 div.sk-parallel-item:only-child::after {width: 0;}#sk-container-id-1 div.sk-dashed-wrapped {border: 1px dashed gray;margin: 0 0.4em 0.5em 0.4em;box-sizing: border-box;padding-bottom: 0.4em;background-color: white;}#sk-container-id-1 div.sk-label label {font-family: monospace;font-weight: bold;display: inline-block;line-height: 1.2em;}#sk-container-id-1 div.sk-label-container {text-align: center;}#sk-container-id-1 div.sk-container {/* jupyter's `normalize.less` sets `[hidden] { display: none; }` but bootstrap.min.css set `[hidden] { display: none !important; }` so we also need the `!important` here to be able to override the default hidden behavior on the sphinx rendered scikit-learn.org. See: https://github.com/scikit-learn/scikit-learn/issues/21755 */display: inline-block !important;position: relative;}#sk-container-id-1 div.sk-text-repr-fallback {display: none;}</style><div id=\"sk-container-id-1\" class=\"sk-top-container\"><div class=\"sk-text-repr-fallback\"><pre>Pipeline(steps=[(&#x27;sampling&#x27;, SMOTE()),\n",
       "                (&#x27;model&#x27;,\n",
       "                 &lt;catboost.core.CatBoostClassifier object at 0x00000203FE7E20D0&gt;)])</pre><b>In a Jupyter environment, please rerun this cell to show the HTML representation or trust the notebook. <br />On GitHub, the HTML representation is unable to render, please try loading this page with nbviewer.org.</b></div><div class=\"sk-container\" hidden><div class=\"sk-item sk-dashed-wrapped\"><div class=\"sk-label-container\"><div class=\"sk-label sk-toggleable\"><input class=\"sk-toggleable__control sk-hidden--visually\" id=\"sk-estimator-id-1\" type=\"checkbox\" ><label for=\"sk-estimator-id-1\" class=\"sk-toggleable__label sk-toggleable__label-arrow\">Pipeline</label><div class=\"sk-toggleable__content\"><pre>Pipeline(steps=[(&#x27;sampling&#x27;, SMOTE()),\n",
       "                (&#x27;model&#x27;,\n",
       "                 &lt;catboost.core.CatBoostClassifier object at 0x00000203FE7E20D0&gt;)])</pre></div></div></div><div class=\"sk-serial\"><div class=\"sk-item\"><div class=\"sk-estimator sk-toggleable\"><input class=\"sk-toggleable__control sk-hidden--visually\" id=\"sk-estimator-id-2\" type=\"checkbox\" ><label for=\"sk-estimator-id-2\" class=\"sk-toggleable__label sk-toggleable__label-arrow\">SMOTE</label><div class=\"sk-toggleable__content\"><pre>SMOTE()</pre></div></div></div><div class=\"sk-item\"><div class=\"sk-estimator sk-toggleable\"><input class=\"sk-toggleable__control sk-hidden--visually\" id=\"sk-estimator-id-3\" type=\"checkbox\" ><label for=\"sk-estimator-id-3\" class=\"sk-toggleable__label sk-toggleable__label-arrow\">CatBoostClassifier</label><div class=\"sk-toggleable__content\"><pre>&lt;catboost.core.CatBoostClassifier object at 0x00000203FE7E20D0&gt;</pre></div></div></div></div></div></div></div>"
      ],
      "text/plain": [
       "Pipeline(steps=[('sampling', SMOTE()),\n",
       "                ('model',\n",
       "                 <catboost.core.CatBoostClassifier object at 0x00000203FE7E20D0>)])"
      ]
     },
     "execution_count": 18,
     "metadata": {},
     "output_type": "execute_result"
    }
   ],
   "source": [
    "# Create a pipeline without SelectKBest to use it in production\n",
    "\n",
    "pipeline_no_feature_sel = Pipeline([\n",
    "    ('sampling', SMOTE()),\n",
    "    ('model', CatBoostClassifier(random_state=42, depth=10, iterations=200, learning_rate=0.2, verbose=0))\n",
    "])\n",
    "\n",
    "# Use only best_k_cols:\n",
    "X_reduced = X[best_k_cols]\n",
    "pipeline_no_feature_sel.fit(X_reduced, y_classif)"
   ]
  },
  {
   "cell_type": "code",
   "execution_count": 19,
   "metadata": {},
   "outputs": [
    {
     "data": {
      "text/plain": [
       "['C:\\\\Users\\\\user\\\\Desktop\\\\Github\\\\Hotel booking prediction\\\\hotel-booking-prediction\\\\models\\\\catboost_model.pkl']"
      ]
     },
     "execution_count": 19,
     "metadata": {},
     "output_type": "execute_result"
    }
   ],
   "source": [
    "path = r\"C:\\Users\\user\\Desktop\\Github\\Hotel booking prediction\\hotel-booking-prediction\\models\\catboost_model.pkl\"\n",
    "joblib.dump(value=[best_k_cols,pipeline_no_feature_sel], filename=path) "
   ]
  }
 ],
 "metadata": {
  "kernelspec": {
   "display_name": "hospitality_env",
   "language": "python",
   "name": "python3"
  },
  "language_info": {
   "codemirror_mode": {
    "name": "ipython",
    "version": 3
   },
   "file_extension": ".py",
   "mimetype": "text/x-python",
   "name": "python",
   "nbconvert_exporter": "python",
   "pygments_lexer": "ipython3",
   "version": "3.9.21"
  }
 },
 "nbformat": 4,
 "nbformat_minor": 2
}
