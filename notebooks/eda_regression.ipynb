{
 "cells": [
  {
   "cell_type": "code",
   "execution_count": null,
   "metadata": {},
   "outputs": [],
   "source": [
    "import pandas as pd\n",
    "import numpy as np\n",
    "from sklearn.ensemble import IsolationForest\n",
    "from sklearn.impute import SimpleImputer\n"
   ]
  },
  {
   "cell_type": "code",
   "execution_count": null,
   "metadata": {},
   "outputs": [],
   "source": [
    "def eda_preprocess_regression(df):\n",
    "    \"\"\"\n",
    "    Performs end-to-end EDA preprocessing for ADR regression.\n",
    "    \n",
    "    Steps:\n",
    "    1. Drop columns that are not useful or may cause data leakage.\n",
    "    2. Impute missing values (median for numeric, mode for categorical).\n",
    "    3. Filter out rows with no guests (adults, children, and babies are all zero).\n",
    "    4. Convert 'reservation_status_date' to datetime and extract date features.\n",
    "    5. Remove outliers using IsolationForest on numeric columns (excluding target 'adr').\n",
    "    6. One-hot encode categorical variables.\n",
    "    \n",
    "    Returns a cleaned DataFrame ready for regression modeling.\n",
    "    \"\"\"\n",
    "    df = df.copy()\n",
    "    \n",
    "    # Step 1: Drop unwanted columns\n",
    "    drop_cols = ['is_canceled', 'booking_changes', 'assigned_room_type',\n",
    "                 'reservation_status', 'agent', 'company', 'days_in_waiting_list']\n",
    "    df.drop(columns=drop_cols, errors='ignore', inplace=True)\n",
    "    \n",
    "    # Step 2: Impute missing values\n",
    "    num_cols = df.select_dtypes(include=['float64', 'int64']).columns.tolist()\n",
    "    cat_cols = df.select_dtypes(include=['object']).columns.tolist()\n",
    "    \n",
    "    if num_cols:\n",
    "        imp_num = SimpleImputer(strategy='median')\n",
    "        df[num_cols] = imp_num.fit_transform(df[num_cols])\n",
    "    \n",
    "    if cat_cols:\n",
    "        imp_cat = SimpleImputer(strategy='most_frequent')\n",
    "        df[cat_cols] = imp_cat.fit_transform(df[cat_cols])\n",
    "    \n",
    "    # Step 3: Filter out rows with no guests\n",
    "    if set(['adults', 'children', 'babies']).issubset(df.columns):\n",
    "        no_guest_filter = (df['adults'] == 0) & (df['children'] == 0) & (df['babies'] == 0)\n",
    "        df = df[~no_guest_filter]\n",
    "    \n",
    "    # Step 4: Convert 'reservation_status_date' to datetime and extract date features\n",
    "    if 'reservation_status_date' in df.columns:\n",
    "        df['reservation_status_date'] = pd.to_datetime(df['reservation_status_date'], errors='coerce')\n",
    "        df['reservation_year'] = df['reservation_status_date'].dt.year\n",
    "        df['reservation_month'] = df['reservation_status_date'].dt.month\n",
    "        df['reservation_day'] = df['reservation_status_date'].dt.day\n",
    "        df['reservation_weekday'] = df['reservation_status_date'].dt.weekday\n",
    "        df.drop(columns=['reservation_status_date'], inplace=True, errors='ignore')\n",
    "    \n",
    "    # Step 5: Outlier handling using IsolationForest on numeric predictors (excluding target 'adr')\n",
    "    if 'adr' in df.columns:\n",
    "        predictor_cols = df.select_dtypes(include=['float64', 'int64']).columns.tolist()\n",
    "        if 'adr' in predictor_cols:\n",
    "            predictor_cols.remove('adr')\n",
    "    else:\n",
    "        predictor_cols = df.select_dtypes(include=['float64', 'int64']).columns.tolist()\n",
    "    \n",
    "    try:\n",
    "        if len(predictor_cols) > 0:\n",
    "            iforest = IsolationForest(n_estimators=50, contamination=0.1, random_state=42)\n",
    "            outlier_preds = iforest.fit_predict(df[predictor_cols])\n",
    "            df = df[outlier_preds != -1]\n",
    "    except Exception as e:\n",
    "        print(\"Warning: IsolationForest encountered an error:\", e)\n",
    "    \n",
    "    # Step 6: One-hot encode categorical variables\n",
    "    cat_cols = df.select_dtypes(include=['object']).columns.tolist()\n",
    "    if cat_cols:\n",
    "        df = pd.get_dummies(df, columns=cat_cols, drop_first=True, dtype=int)\n",
    "    \n",
    "    return df\n"
   ]
  },
  {
   "cell_type": "code",
   "execution_count": null,
   "metadata": {},
   "outputs": [],
   "source": [
    "# Load raw data from CSV\n",
    "\n",
    "raw_data_path =r\"C:\\Users\\user\\Desktop\\Github\\Hotel booking prediction\\hotel-booking-prediction\\data\\archive.zip\"  \n",
    "df_raw = pd.read_csv(raw_data_path)\n",
    "df_raw.head()\n"
   ]
  },
  {
   "cell_type": "code",
   "execution_count": null,
   "metadata": {},
   "outputs": [],
   "source": [
    "df_clean = eda_preprocess_regression(df_raw)\n",
    "df_clean.head()\n"
   ]
  },
  {
   "cell_type": "code",
   "execution_count": null,
   "metadata": {},
   "outputs": [],
   "source": [
    "# Save the cleaned data to a CSV file\n",
    "\n",
    "cleaned_data_path = r\"C:\\Users\\user\\Desktop\\Github\\Hotel booking prediction\\hotel-booking-prediction\\data\\cleaned_regression_data.csv\"\n",
    "df_clean.to_csv(cleaned_data_path, index=False)\n",
    "print(\"Cleaned data saved to:\", cleaned_data_path)\n"
   ]
  },
  {
   "cell_type": "code",
   "execution_count": null,
   "metadata": {},
   "outputs": [],
   "source": []
  }
 ],
 "metadata": {
  "kernelspec": {
   "display_name": "hospitality_env",
   "language": "python",
   "name": "python3"
  },
  "language_info": {
   "name": "python",
   "version": "3.9.21"
  }
 },
 "nbformat": 4,
 "nbformat_minor": 2
}
